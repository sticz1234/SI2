{
 "cells": [
  {
   "cell_type": "code",
   "execution_count": 1,
   "metadata": {},
   "outputs": [],
   "source": [
    "import vrep \n",
    "import sys\n",
    "import time \n",
    "import numpy as np\n",
    "from skfuzzy import control as ctrl\n",
    "import skfuzzy as fuzz\n",
    "from mpl_toolkits.mplot3d import Axes3D\n",
    "import matplotlib.pyplot as plt\n",
    "from tank import *\n",
    "from IPython.display import clear_output"
   ]
  },
  {
   "cell_type": "code",
   "execution_count": null,
   "metadata": {},
   "outputs": [
    {
     "name": "stdout",
     "output_type": "stream",
     "text": [
      "Proximity_sensor_EN 0.6988655954221893\n",
      "Proximity_sensor_ES 0.6948096035184805\n",
      "Proximity_sensor_NE 0.6948096035184805\n",
      "Proximity_sensor_NW 0.4523570422267524\n",
      "Proximity_sensor_SE 0.9313035411879725\n",
      "Proximity_sensor_SW 0.5617585353654941\n",
      "Proximity_sensor_WN 0.3335401437177275\n",
      "Proximity_sensor_WS 0.3343616226726042\n",
      "average: 0.5877257109537126\n",
      "speed: 0.03333333333333334\n",
      "{'EN': 0.6988655954221893, 'ES': 0.6948096035184805, 'NE': 0.6948096035184805, 'NW': 0.4523570422267524, 'SE': 0.9313035411879725, 'SW': 0.5617585353654941, 'WN': 0.3335401437177275, 'WS': 0.3343616226726042}\n"
     ]
    }
   ],
   "source": [
    "vrep.simxFinish(-1) # closes all opened connections, in case any prevoius wasnt finished\n",
    "clientID=vrep.simxStart('127.0.0.1',19999,True,True,5000,5) # start a connection\n",
    "\n",
    "if clientID!=-1:\n",
    "    print (\"Connected to remote API server\")\n",
    "else:\n",
    "    print(\"Not connected to remote API server\")\n",
    "    sys.exit(\"Could not connect\")\n",
    "\n",
    "#create instance of Tank\n",
    "tank=Tank(clientID)\n",
    "\n",
    "proximity_sensors=[\"EN\",\"ES\",\"NE\",\"NW\",\"SE\",\"SW\",\"WN\",\"WS\"]\n",
    "proximity_sensors_handles=[0]*8\n",
    "\n",
    "# get handle to proximity sensors\n",
    "for i in range(len(proximity_sensors)):\n",
    "    err_code,proximity_sensors_handles[i] = vrep.simxGetObjectHandle(clientID,\"Proximity_sensor_\"+proximity_sensors[i], vrep.simx_opmode_blocking)\n",
    "    \n",
    "#read and print values from proximity sensors\n",
    "#first reading should be done with simx_opmode_streaming, further with simx_opmode_buffer parameter\n",
    "for sensor_name, sensor_handle in zip(proximity_sensors,proximity_sensors_handles):\n",
    "        err_code,detectionState,detectedPoint,detectedObjectHandle,detectedSurfaceNormalVector=vrep.simxReadProximitySensor(clientID,sensor_handle,vrep.simx_opmode_streaming)\n",
    "\n",
    "tank.forward(5)\n",
    "PP = getPerpendicular()\n",
    "PS = getPerpendicularStop()\n",
    "turn = False\n",
    "forward = False\n",
    "#continue reading and printing values from proximity sensors\n",
    "t = time.time()\n",
    "while (time.time()-t)<90: # read values for 5 seconds\n",
    "    clear_output(wait=True)\n",
    "    sensors={\n",
    "        \"EN\":0,\n",
    "        \"ES\":0,\n",
    "        \"NE\":0,\n",
    "        \"NW\":0,\n",
    "        \"SE\":0,\n",
    "        \"SW\":0,\n",
    "        \"WN\":0,\n",
    "        \"WS\":0,\n",
    "    }\n",
    "    for sensor_name, sensor_handle in zip(proximity_sensors,proximity_sensors_handles):\n",
    "        err_code,detectionState,detectedPoint,detectedObjectHandle,detectedSurfaceNormalVector=vrep.simxReadProximitySensor(clientID,sensor_handle,vrep.simx_opmode_buffer )\n",
    "        if(err_code == 0):\n",
    "            print(\"Proximity_sensor_\"+sensor_name, np.linalg.norm(detectedPoint))\n",
    "            sensors[sensor_name] = (np.linalg.norm(detectedPoint))\n",
    "    parkPerpendicular(sensors,tank,PP,PS)\n",
    "    \n",
    "    print(sensors)"
   ]
  },
  {
   "cell_type": "code",
   "execution_count": 3,
   "metadata": {},
   "outputs": [],
   "source": [
    "def stopPerpendicular(sensors,tank):\n",
    "    if sensors[\"NE\"] > 2 and sensors[\"NE\"] < 3:\n",
    "        tank.stop()\n",
    "    #if(sensors[\"WN\"] > 2.0 and sensors[\"WN\"] < 2.1 and sensors[\"WS\"] < 2.1 and sensors[\"WS\"] > 2.0 and sensors[\"SW\"] > 1.2 and sensors['SW'] < 1.80):\n",
    "    #    tank.stop()\n",
    "\n",
    "def stopParallel(sensors,tank):\n",
    "    if(sensors[\"SE\"] > 2.5 and sensors[\"ES\"] < 1 and sensors[\"EN\"] < 1):\n",
    "        tank.stop()"
   ]
  },
  {
   "cell_type": "code",
   "execution_count": 4,
   "metadata": {},
   "outputs": [],
   "source": [
    "def parkParallel(sensors,tank):\n",
    "    \n",
    "    stopParallel(sensors,tank)\n",
    "    \n",
    "    \n",
    "def parkPerpendicular(sensors,tank,model,modelStop):\n",
    "    global turn\n",
    "    global forward\n",
    "    summ = 0\n",
    "    average = getSum(sensors) / 8\n",
    "    if average > 2:\n",
    "        average = 2\n",
    "    print(\"average:\",average)\n",
    "    if sensors[\"NE\"] > 2 and sensors[\"NE\"] < 2.7 and not turn and not forward:\n",
    "        turn = True\n",
    "        print(\"ZACZYMANIE GOWNIARZA\")\n",
    "    if sensors['NE'] < 1.15 and sensors[\"NW\"] < 1.16 and not forward and turn:\n",
    "        forward = True\n",
    "    if turn and not forward:\n",
    "        model.input['dist'] = sensors[\"NW\"]\n",
    "        model.compute()\n",
    "        right_speed = model.output['right_vel']\n",
    "        left_speed = model.output['left_vel']\n",
    "        tank.rightvelocity = right_speed\n",
    "        tank.leftvelocity = left_speed\n",
    "        tank.setVelocity()\n",
    "    if forward:\n",
    "        modelStop.input['dist'] = average\n",
    "        modelStop.compute()\n",
    "        speed = modelStop.output['speed']\n",
    "        print(\"speed:\",speed)\n",
    "        tank.forward(speed)\n",
    "        \n",
    "def getSum(sensors):\n",
    "    summ = 0\n",
    "    for sensor in sensors:\n",
    "        summ += sensors[sensor]\n",
    "    return summ"
   ]
  },
  {
   "cell_type": "code",
   "execution_count": 5,
   "metadata": {},
   "outputs": [],
   "source": [
    "def getPerpendicular():\n",
    "    right_speed = ctrl.Consequent(np.arange(0, 10, 0.01), 'right_vel')\n",
    "    right_speed['minimal'] = fuzz.trimf(right_speed.universe, [0, 0, 0.1])\n",
    "    right_speed['low'] = fuzz.trimf(right_speed.universe, [0, 0.1, 4])\n",
    "    right_speed['medium'] = fuzz.trimf(right_speed.universe, [2, 4, 8])\n",
    "    right_speed['high'] = fuzz.trapmf(right_speed.universe, [4,8, 10, 10])\n",
    "    #right_speed['minimal'].view()\n",
    "\n",
    "    left_speed = ctrl.Consequent(np.arange(0, 10, 0.01), 'left_vel')\n",
    "    left_speed['minimal'] = fuzz.trimf(left_speed.universe, [0, 0, 0.1])\n",
    "    left_speed['low'] = fuzz.trimf(left_speed.universe, [0.1, 1, 2.2])\n",
    "    left_speed['medium'] = fuzz.trimf(left_speed.universe, [1, 2.2, 5.2])\n",
    "    left_speed['high'] = fuzz.trapmf(left_speed.universe, [2.2, 5.2,10, 10])\n",
    "    #left_speed['high'].view()\n",
    "\n",
    "    north_west_dist = ctrl.Antecedent(np.arange(0, 4, 0.01), 'dist')\n",
    "    north_west_dist['very close'] = fuzz.trapmf(north_west_dist.universe, [0, 0, 0.5, 0.6])\n",
    "    north_west_dist['close'] = fuzz.trapmf(north_west_dist.universe, [0.5, 0.6, 0.9, 1])\n",
    "    north_west_dist['medium'] = fuzz.trapmf(north_west_dist.universe, [0.9, 1, 2.6, 2.8])\n",
    "    north_west_dist['far'] = fuzz.trapmf(north_west_dist.universe, [2.6, 2.8, 4, 4])\n",
    "    #north_west_dist['far'].view()\n",
    "    \n",
    "    \n",
    "    \n",
    "    rule1 = ctrl.Rule(north_west_dist['very close'], left_speed['minimal'])\n",
    "    rule2 = ctrl.Rule(north_west_dist['very close'], right_speed['low'])\n",
    "    rule3 = ctrl.Rule(north_west_dist['close'], left_speed['high'])\n",
    "    rule4 = ctrl.Rule(north_west_dist['close'], right_speed['medium'])\n",
    "    rule5 = ctrl.Rule(north_west_dist['medium'], left_speed['low'])\n",
    "    rule6 = ctrl.Rule(north_west_dist['medium'], right_speed['high'])\n",
    "    rule7 = ctrl.Rule(north_west_dist['far'], left_speed['medium'])\n",
    "    rule8 = ctrl.Rule(north_west_dist['far'], right_speed['medium'])\n",
    "\n",
    "    speed_ctrl = ctrl.ControlSystem([rule1, rule2, rule3, rule4, rule5, rule6, rule7, rule8])\n",
    "    css = ctrl.ControlSystemSimulation(speed_ctrl)\n",
    "\n",
    "    return css"
   ]
  },
  {
   "cell_type": "code",
   "execution_count": 6,
   "metadata": {},
   "outputs": [],
   "source": [
    "def getPerpendicularStop():\n",
    "    speed = ctrl.Consequent(np.arange(0, 5, 0.01), 'speed')\n",
    "    speed['minimal'] = fuzz.trimf(speed.universe, [0, 0, 0.1])\n",
    "    speed['low'] = fuzz.trimf(speed.universe, [0.1, 0.1, 2.2])\n",
    "    speed['medium'] = fuzz.trapmf(speed.universe, [0.1, 2.2, 5,5])\n",
    "    speed['medium'].view()\n",
    "\n",
    "\n",
    "    dist = ctrl.Antecedent(np.arange(0, 2, 0.01), 'dist')\n",
    "    dist['very close'] = fuzz.trapmf(dist.universe, [0, 0, 0.6, 0.7])\n",
    "    dist['close'] = fuzz.trapmf(dist.universe, [0.6, 0.7, 0.9, 1])\n",
    "    dist['medium'] = fuzz.trapmf(dist.universe, [0.9, 1, 2, 2])\n",
    "    dist['medium'].view()\n",
    "        \n",
    "    rule1 = ctrl.Rule(dist['very close'], speed['minimal'])\n",
    "    rule2 = ctrl.Rule(dist['close'], speed['low'])\n",
    "    rule3 = ctrl.Rule(dist['medium'], speed['medium'])\n",
    "\n",
    "    speed_ctrl = ctrl.ControlSystem([rule1, rule2, rule3])\n",
    "    css = ctrl.ControlSystemSimulation(speed_ctrl)\n",
    "\n",
    "    return css"
   ]
  },
  {
   "cell_type": "code",
   "execution_count": 7,
   "metadata": {},
   "outputs": [
    {
     "data": {
      "text/plain": [
       "<skfuzzy.control.controlsystem.ControlSystemSimulation at 0x26fe3e57508>"
      ]
     },
     "execution_count": 7,
     "metadata": {},
     "output_type": "execute_result"
    }
   ],
   "source": [
    "getPerpendicular()"
   ]
  },
  {
   "cell_type": "code",
   "execution_count": 8,
   "metadata": {},
   "outputs": [
    {
     "name": "stderr",
     "output_type": "stream",
     "text": [
      "F:\\ProgramData\\Anaconda3\\lib\\site-packages\\skfuzzy\\control\\term.py:74: UserWarning: Matplotlib is currently using module://ipykernel.pylab.backend_inline, which is a non-GUI backend, so cannot show the figure.\n",
      "  fig.show()\n",
      "F:\\ProgramData\\Anaconda3\\lib\\site-packages\\skfuzzy\\control\\term.py:74: UserWarning: Matplotlib is currently using module://ipykernel.pylab.backend_inline, which is a non-GUI backend, so cannot show the figure.\n",
      "  fig.show()\n"
     ]
    },
    {
     "data": {
      "image/png": "[encoded data removed]",
      "text/plain": [
       "<Figure size 432x288 with 1 Axes>"
      ]
     },
     "metadata": {
      "needs_background": "light"
     },
     "output_type": "display_data"
    },
    {
     "data": {
      "image/png": "[encoded data removed]",
      "text/plain": [
       "<Figure size 432x288 with 1 Axes>"
      ]
     },
     "metadata": {
      "needs_background": "light"
     },
     "output_type": "display_data"
    }
   ],
   "source": [
    "mod =  getPerpendicularStop()"
   ]
  },
  {
   "cell_type": "code",
   "execution_count": 9,
   "metadata": {},
   "outputs": [],
   "source": [
    "mod.input[\"dist\"] = 0.79"
   ]
  },
  {
   "cell_type": "code",
   "execution_count": 10,
   "metadata": {},
   "outputs": [
    {
     "name": "stdout",
     "output_type": "stream",
     "text": [
      "0.7966666666666666\n"
     ]
    }
   ],
   "source": [
    "mod.compute()\n",
    "print(mod.output['speed'])"
   ]
  },
  {
   "cell_type": "code",
   "execution_count": null,
   "metadata": {},
   "outputs": [],
   "source": []
  }
 ],
 "metadata": {
  "kernelspec": {
   "display_name": "Python 3",
   "language": "python",
   "name": "python3"
  },
  "language_info": {
   "codemirror_mode": {
    "name": "ipython",
    "version": 3
   },
   "file_extension": ".py",
   "mimetype": "text/x-python",
   "name": "python",
   "nbconvert_exporter": "python",
   "pygments_lexer": "ipython3",
   "version": "3.7.6"
  }
 },
 "nbformat": 4,
 "nbformat_minor": 2
}
